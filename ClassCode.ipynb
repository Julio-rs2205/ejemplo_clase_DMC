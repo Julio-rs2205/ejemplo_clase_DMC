{
  "nbformat": 4,
  "nbformat_minor": 0,
  "metadata": {
    "colab": {
      "provenance": [],
      "authorship_tag": "ABX9TyMwI0zXFcYkd3qNKTa3Vf+H",
      "include_colab_link": true
    },
    "kernelspec": {
      "name": "python3",
      "display_name": "Python 3"
    },
    "language_info": {
      "name": "python"
    }
  },
  "cells": [
    {
      "cell_type": "markdown",
      "metadata": {
        "id": "view-in-github",
        "colab_type": "text"
      },
      "source": [
        "<a href=\"https://colab.research.google.com/github/Julio-rs2205/ejemplo_clase_DMC/blob/main/ClassCode.ipynb\" target=\"_parent\"><img src=\"https://colab.research.google.com/assets/colab-badge.svg\" alt=\"Open In Colab\"/></a>"
      ]
    },
    {
      "cell_type": "code",
      "execution_count": 7,
      "metadata": {
        "colab": {
          "base_uri": "https://localhost:8080/"
        },
        "id": "GQW_cOpNvPmF",
        "outputId": "8cd61f74-bb6a-4dd7-ddce-9fcd9eb8be7c"
      },
      "outputs": [
        {
          "output_type": "execute_result",
          "data": {
            "text/plain": [
              "1677114686.936814"
            ]
          },
          "metadata": {},
          "execution_count": 7
        }
      ],
      "source": [
        "import time\n",
        "time.time()"
      ]
    },
    {
      "cell_type": "code",
      "source": [
        "time.time()"
      ],
      "metadata": {
        "colab": {
          "base_uri": "https://localhost:8080/"
        },
        "id": "QHz-n-1a02RA",
        "outputId": "9989625c-0884-40c7-b65f-c8243cbc944d"
      },
      "execution_count": 8,
      "outputs": [
        {
          "output_type": "execute_result",
          "data": {
            "text/plain": [
              "1677114706.9818447"
            ]
          },
          "metadata": {},
          "execution_count": 8
        }
      ]
    },
    {
      "cell_type": "code",
      "source": [
        "print(\"El tiempo de demora del proceso es de: \",1677114706.9818447-1677114686.936814)"
      ],
      "metadata": {
        "colab": {
          "base_uri": "https://localhost:8080/"
        },
        "id": "zd8hrs6o04tN",
        "outputId": "6eca1c67-6685-43e8-d0f4-63c30cc9a5b6"
      },
      "execution_count": 10,
      "outputs": [
        {
          "output_type": "stream",
          "name": "stdout",
          "text": [
            "El tiempo de demora del proceso es de:  20.04503059387207\n"
          ]
        }
      ]
    },
    {
      "cell_type": "code",
      "source": [
        "print(f\"\\nEl tiempo de demora del proceso es de: {1677114706.9818447-1677114686.936814} segundos\\n\\thola\")"
      ],
      "metadata": {
        "colab": {
          "base_uri": "https://localhost:8080/"
        },
        "id": "IALIFMH3121X",
        "outputId": "92818aef-2c6c-44c3-932c-55e6d81e01cf"
      },
      "execution_count": 24,
      "outputs": [
        {
          "output_type": "stream",
          "name": "stdout",
          "text": [
            "\n",
            "El tiempo de demora del proceso es de: 20.04503059387207 segundos\n",
            "\thola\n"
          ]
        }
      ]
    },
    {
      "cell_type": "markdown",
      "source": [
        "#### Ejercicio\n",
        "Mediante un FOR imprima los números del 1 al 10 e indique si son múltiplos de 3"
      ],
      "metadata": {
        "id": "Z2fNJZFSA0-n"
      }
    },
    {
      "cell_type": "code",
      "source": [
        "for x in [1,2,3,4,5,6,7,8,9,10]:\n",
        "  if x%3==0:\n",
        "    print(f\"El número {x} si es múltiplo de 3\")\n",
        "  else:\n",
        "    print(f\"El número {x} no es múltiplo de 3\")"
      ],
      "metadata": {
        "colab": {
          "base_uri": "https://localhost:8080/"
        },
        "id": "FG9MZhBwA8Y3",
        "outputId": "7eb86ab8-ce22-4358-cc66-bf3d8a529d5f"
      },
      "execution_count": 48,
      "outputs": [
        {
          "output_type": "stream",
          "name": "stdout",
          "text": [
            "El número 1 no es múltiplo de 3\n",
            "El número 2 no es múltiplo de 3\n",
            "El número 3 si es múltiplo de 3\n",
            "El número 4 no es múltiplo de 3\n",
            "El número 5 no es múltiplo de 3\n",
            "El número 6 si es múltiplo de 3\n",
            "El número 7 no es múltiplo de 3\n",
            "El número 8 no es múltiplo de 3\n",
            "El número 9 si es múltiplo de 3\n",
            "El número 10 no es múltiplo de 3\n"
          ]
        }
      ]
    },
    {
      "cell_type": "code",
      "source": [
        "for x in [1,2,3,4,5,6,7,8,9,10]:\n",
        "  if x%3==0:\n",
        "    es_multiplo = \"si\"\n",
        "  else:\n",
        "    es_multiplo = \"no\"\n",
        "  print(f\"El número {x} {es_multiplo} es múltiplo de 3\")"
      ],
      "metadata": {
        "colab": {
          "base_uri": "https://localhost:8080/"
        },
        "id": "Ywvn4idcEaeo",
        "outputId": "90d5e7a6-636a-42c6-809e-b734be165f98"
      },
      "execution_count": 49,
      "outputs": [
        {
          "output_type": "stream",
          "name": "stdout",
          "text": [
            "El número 1 no es múltiplo de 3\n",
            "El número 2 no es múltiplo de 3\n",
            "El número 3 si es múltiplo de 3\n",
            "El número 4 no es múltiplo de 3\n",
            "El número 5 no es múltiplo de 3\n",
            "El número 6 si es múltiplo de 3\n",
            "El número 7 no es múltiplo de 3\n",
            "El número 8 no es múltiplo de 3\n",
            "El número 9 si es múltiplo de 3\n",
            "El número 10 no es múltiplo de 3\n"
          ]
        }
      ]
    },
    {
      "cell_type": "code",
      "source": [
        "for x in [1,2,3,4,5,6,7,8,9,10]:\n",
        "  if x%3==0:\n",
        "    es_multiplo = \"si\"\n",
        "  else:\n",
        "    es_multiplo = \"no\"\n",
        "  print(f\"El número {x} {es_multiplo} es múltiplo de 3\")"
      ],
      "metadata": {
        "id": "d4wj_rvgEztR"
      },
      "execution_count": null,
      "outputs": []
    },
    {
      "cell_type": "code",
      "source": [
        "for i in range(0,1000,5):\n",
        "  if(i%3 == 0):\n",
        "    print(f\"{i} es múltiplo de 3\")"
      ],
      "metadata": {
        "colab": {
          "base_uri": "https://localhost:8080/"
        },
        "id": "VDn96TsZF5fc",
        "outputId": "3bb48118-d0e7-4767-b826-61e76fb15129"
      },
      "execution_count": 51,
      "outputs": [
        {
          "output_type": "stream",
          "name": "stdout",
          "text": [
            "0 es múltiplo de 3\n",
            "15 es múltiplo de 3\n",
            "30 es múltiplo de 3\n",
            "45 es múltiplo de 3\n",
            "60 es múltiplo de 3\n",
            "75 es múltiplo de 3\n",
            "90 es múltiplo de 3\n",
            "105 es múltiplo de 3\n",
            "120 es múltiplo de 3\n",
            "135 es múltiplo de 3\n",
            "150 es múltiplo de 3\n",
            "165 es múltiplo de 3\n",
            "180 es múltiplo de 3\n",
            "195 es múltiplo de 3\n",
            "210 es múltiplo de 3\n",
            "225 es múltiplo de 3\n",
            "240 es múltiplo de 3\n",
            "255 es múltiplo de 3\n",
            "270 es múltiplo de 3\n",
            "285 es múltiplo de 3\n",
            "300 es múltiplo de 3\n",
            "315 es múltiplo de 3\n",
            "330 es múltiplo de 3\n",
            "345 es múltiplo de 3\n",
            "360 es múltiplo de 3\n",
            "375 es múltiplo de 3\n",
            "390 es múltiplo de 3\n",
            "405 es múltiplo de 3\n",
            "420 es múltiplo de 3\n",
            "435 es múltiplo de 3\n",
            "450 es múltiplo de 3\n",
            "465 es múltiplo de 3\n",
            "480 es múltiplo de 3\n",
            "495 es múltiplo de 3\n",
            "510 es múltiplo de 3\n",
            "525 es múltiplo de 3\n",
            "540 es múltiplo de 3\n",
            "555 es múltiplo de 3\n",
            "570 es múltiplo de 3\n",
            "585 es múltiplo de 3\n",
            "600 es múltiplo de 3\n",
            "615 es múltiplo de 3\n",
            "630 es múltiplo de 3\n",
            "645 es múltiplo de 3\n",
            "660 es múltiplo de 3\n",
            "675 es múltiplo de 3\n",
            "690 es múltiplo de 3\n",
            "705 es múltiplo de 3\n",
            "720 es múltiplo de 3\n",
            "735 es múltiplo de 3\n",
            "750 es múltiplo de 3\n",
            "765 es múltiplo de 3\n",
            "780 es múltiplo de 3\n",
            "795 es múltiplo de 3\n",
            "810 es múltiplo de 3\n",
            "825 es múltiplo de 3\n",
            "840 es múltiplo de 3\n",
            "855 es múltiplo de 3\n",
            "870 es múltiplo de 3\n",
            "885 es múltiplo de 3\n",
            "900 es múltiplo de 3\n",
            "915 es múltiplo de 3\n",
            "930 es múltiplo de 3\n",
            "945 es múltiplo de 3\n",
            "960 es múltiplo de 3\n",
            "975 es múltiplo de 3\n",
            "990 es múltiplo de 3\n"
          ]
        }
      ]
    },
    {
      "cell_type": "code",
      "source": [
        "[x**x for x in range(0,11)]"
      ],
      "metadata": {
        "colab": {
          "base_uri": "https://localhost:8080/"
        },
        "id": "WI_E657BKYoo",
        "outputId": "ae354479-32d1-4469-cc0e-7d41863b4c60"
      },
      "execution_count": 55,
      "outputs": [
        {
          "output_type": "execute_result",
          "data": {
            "text/plain": [
              "[1, 1, 4, 27, 256, 3125, 46656, 823543, 16777216, 387420489, 10000000000]"
            ]
          },
          "metadata": {},
          "execution_count": 55
        }
      ]
    }
  ]
}