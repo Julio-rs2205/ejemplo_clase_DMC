{
  "nbformat": 4,
  "nbformat_minor": 0,
  "metadata": {
    "colab": {
      "provenance": [],
      "toc_visible": true,
      "authorship_tag": "ABX9TyOwIGYX47ftYFqkq18U2n2N",
      "include_colab_link": true
    },
    "kernelspec": {
      "name": "python3",
      "display_name": "Python 3"
    },
    "language_info": {
      "name": "python"
    }
  },
  "cells": [
    {
      "cell_type": "markdown",
      "metadata": {
        "id": "view-in-github",
        "colab_type": "text"
      },
      "source": [
        "<a href=\"https://colab.research.google.com/github/Julio-rs2205/ejemplo_clase_DMC/blob/main/ClassCode.ipynb\" target=\"_parent\"><img src=\"https://colab.research.google.com/assets/colab-badge.svg\" alt=\"Open In Colab\"/></a>"
      ]
    },
    {
      "cell_type": "code",
      "execution_count": null,
      "metadata": {
        "colab": {
          "base_uri": "https://localhost:8080/"
        },
        "id": "GQW_cOpNvPmF",
        "outputId": "8cd61f74-bb6a-4dd7-ddce-9fcd9eb8be7c"
      },
      "outputs": [
        {
          "output_type": "execute_result",
          "data": {
            "text/plain": [
              "1677114686.936814"
            ]
          },
          "metadata": {},
          "execution_count": 7
        }
      ],
      "source": [
        "import time\n",
        "time.time()"
      ]
    },
    {
      "cell_type": "code",
      "source": [
        "time.time()"
      ],
      "metadata": {
        "colab": {
          "base_uri": "https://localhost:8080/"
        },
        "id": "QHz-n-1a02RA",
        "outputId": "9989625c-0884-40c7-b65f-c8243cbc944d"
      },
      "execution_count": null,
      "outputs": [
        {
          "output_type": "execute_result",
          "data": {
            "text/plain": [
              "1677114706.9818447"
            ]
          },
          "metadata": {},
          "execution_count": 8
        }
      ]
    },
    {
      "cell_type": "code",
      "source": [
        "print(\"El tiempo de demora del proceso es de: \",1677114706.9818447-1677114686.936814)"
      ],
      "metadata": {
        "colab": {
          "base_uri": "https://localhost:8080/"
        },
        "id": "zd8hrs6o04tN",
        "outputId": "6eca1c67-6685-43e8-d0f4-63c30cc9a5b6"
      },
      "execution_count": null,
      "outputs": [
        {
          "output_type": "stream",
          "name": "stdout",
          "text": [
            "El tiempo de demora del proceso es de:  20.04503059387207\n"
          ]
        }
      ]
    },
    {
      "cell_type": "code",
      "source": [
        "print(f\"\\nEl tiempo de demora del proceso es de: {1677114706.9818447-1677114686.936814} segundos\\n\\thola\")"
      ],
      "metadata": {
        "colab": {
          "base_uri": "https://localhost:8080/"
        },
        "id": "IALIFMH3121X",
        "outputId": "92818aef-2c6c-44c3-932c-55e6d81e01cf"
      },
      "execution_count": null,
      "outputs": [
        {
          "output_type": "stream",
          "name": "stdout",
          "text": [
            "\n",
            "El tiempo de demora del proceso es de: 20.04503059387207 segundos\n",
            "\thola\n"
          ]
        }
      ]
    },
    {
      "cell_type": "markdown",
      "source": [
        "#### Ejercicio\n",
        "Mediante un FOR imprima los números del 1 al 10 e indique si son múltiplos de 3"
      ],
      "metadata": {
        "id": "Z2fNJZFSA0-n"
      }
    },
    {
      "cell_type": "code",
      "source": [
        "for x in [1,2,3,4,5,6,7,8,9,10]:\n",
        "  if x%3==0:\n",
        "    print(f\"El número {x} si es múltiplo de 3\")\n",
        "  else:\n",
        "    print(f\"El número {x} no es múltiplo de 3\")"
      ],
      "metadata": {
        "colab": {
          "base_uri": "https://localhost:8080/"
        },
        "id": "FG9MZhBwA8Y3",
        "outputId": "7eb86ab8-ce22-4358-cc66-bf3d8a529d5f"
      },
      "execution_count": null,
      "outputs": [
        {
          "output_type": "stream",
          "name": "stdout",
          "text": [
            "El número 1 no es múltiplo de 3\n",
            "El número 2 no es múltiplo de 3\n",
            "El número 3 si es múltiplo de 3\n",
            "El número 4 no es múltiplo de 3\n",
            "El número 5 no es múltiplo de 3\n",
            "El número 6 si es múltiplo de 3\n",
            "El número 7 no es múltiplo de 3\n",
            "El número 8 no es múltiplo de 3\n",
            "El número 9 si es múltiplo de 3\n",
            "El número 10 no es múltiplo de 3\n"
          ]
        }
      ]
    },
    {
      "cell_type": "code",
      "source": [
        "for x in [1,2,3,4,5,6,7,8,9,10]:\n",
        "  if x%3==0:\n",
        "    es_multiplo = \"si\"\n",
        "  else:\n",
        "    es_multiplo = \"no\"\n",
        "  print(f\"El número {x} {es_multiplo} es múltiplo de 3\")"
      ],
      "metadata": {
        "colab": {
          "base_uri": "https://localhost:8080/"
        },
        "id": "Ywvn4idcEaeo",
        "outputId": "90d5e7a6-636a-42c6-809e-b734be165f98"
      },
      "execution_count": null,
      "outputs": [
        {
          "output_type": "stream",
          "name": "stdout",
          "text": [
            "El número 1 no es múltiplo de 3\n",
            "El número 2 no es múltiplo de 3\n",
            "El número 3 si es múltiplo de 3\n",
            "El número 4 no es múltiplo de 3\n",
            "El número 5 no es múltiplo de 3\n",
            "El número 6 si es múltiplo de 3\n",
            "El número 7 no es múltiplo de 3\n",
            "El número 8 no es múltiplo de 3\n",
            "El número 9 si es múltiplo de 3\n",
            "El número 10 no es múltiplo de 3\n"
          ]
        }
      ]
    },
    {
      "cell_type": "code",
      "source": [
        "for x in [1,2,3,4,5,6,7,8,9,10]:\n",
        "  if x%3==0:\n",
        "    es_multiplo = \"si\"\n",
        "  else:\n",
        "    es_multiplo = \"no\"\n",
        "  print(f\"El número {x} {es_multiplo} es múltiplo de 3\")"
      ],
      "metadata": {
        "id": "d4wj_rvgEztR"
      },
      "execution_count": null,
      "outputs": []
    },
    {
      "cell_type": "code",
      "source": [
        "for i in range(0,1000,5):\n",
        "  if(i%3 == 0):\n",
        "    print(f\"{i} es múltiplo de 3\")"
      ],
      "metadata": {
        "colab": {
          "base_uri": "https://localhost:8080/"
        },
        "id": "VDn96TsZF5fc",
        "outputId": "3bb48118-d0e7-4767-b826-61e76fb15129"
      },
      "execution_count": null,
      "outputs": [
        {
          "output_type": "stream",
          "name": "stdout",
          "text": [
            "0 es múltiplo de 3\n",
            "15 es múltiplo de 3\n",
            "30 es múltiplo de 3\n",
            "45 es múltiplo de 3\n",
            "60 es múltiplo de 3\n",
            "75 es múltiplo de 3\n",
            "90 es múltiplo de 3\n",
            "105 es múltiplo de 3\n",
            "120 es múltiplo de 3\n",
            "135 es múltiplo de 3\n",
            "150 es múltiplo de 3\n",
            "165 es múltiplo de 3\n",
            "180 es múltiplo de 3\n",
            "195 es múltiplo de 3\n",
            "210 es múltiplo de 3\n",
            "225 es múltiplo de 3\n",
            "240 es múltiplo de 3\n",
            "255 es múltiplo de 3\n",
            "270 es múltiplo de 3\n",
            "285 es múltiplo de 3\n",
            "300 es múltiplo de 3\n",
            "315 es múltiplo de 3\n",
            "330 es múltiplo de 3\n",
            "345 es múltiplo de 3\n",
            "360 es múltiplo de 3\n",
            "375 es múltiplo de 3\n",
            "390 es múltiplo de 3\n",
            "405 es múltiplo de 3\n",
            "420 es múltiplo de 3\n",
            "435 es múltiplo de 3\n",
            "450 es múltiplo de 3\n",
            "465 es múltiplo de 3\n",
            "480 es múltiplo de 3\n",
            "495 es múltiplo de 3\n",
            "510 es múltiplo de 3\n",
            "525 es múltiplo de 3\n",
            "540 es múltiplo de 3\n",
            "555 es múltiplo de 3\n",
            "570 es múltiplo de 3\n",
            "585 es múltiplo de 3\n",
            "600 es múltiplo de 3\n",
            "615 es múltiplo de 3\n",
            "630 es múltiplo de 3\n",
            "645 es múltiplo de 3\n",
            "660 es múltiplo de 3\n",
            "675 es múltiplo de 3\n",
            "690 es múltiplo de 3\n",
            "705 es múltiplo de 3\n",
            "720 es múltiplo de 3\n",
            "735 es múltiplo de 3\n",
            "750 es múltiplo de 3\n",
            "765 es múltiplo de 3\n",
            "780 es múltiplo de 3\n",
            "795 es múltiplo de 3\n",
            "810 es múltiplo de 3\n",
            "825 es múltiplo de 3\n",
            "840 es múltiplo de 3\n",
            "855 es múltiplo de 3\n",
            "870 es múltiplo de 3\n",
            "885 es múltiplo de 3\n",
            "900 es múltiplo de 3\n",
            "915 es múltiplo de 3\n",
            "930 es múltiplo de 3\n",
            "945 es múltiplo de 3\n",
            "960 es múltiplo de 3\n",
            "975 es múltiplo de 3\n",
            "990 es múltiplo de 3\n"
          ]
        }
      ]
    },
    {
      "cell_type": "code",
      "source": [
        "[x**x for x in range(0,11)]"
      ],
      "metadata": {
        "colab": {
          "base_uri": "https://localhost:8080/"
        },
        "id": "WI_E657BKYoo",
        "outputId": "ae354479-32d1-4469-cc0e-7d41863b4c60"
      },
      "execution_count": null,
      "outputs": [
        {
          "output_type": "execute_result",
          "data": {
            "text/plain": [
              "[1, 1, 4, 27, 256, 3125, 46656, 823543, 16777216, 387420489, 10000000000]"
            ]
          },
          "metadata": {},
          "execution_count": 55
        }
      ]
    },
    {
      "cell_type": "markdown",
      "source": [
        "# Pandas"
      ],
      "metadata": {
        "id": "LtxwJzmJPk_7"
      }
    },
    {
      "cell_type": "code",
      "source": [
        "#@title\n",
        "import pandas as pd\n",
        "pddf = pd.DataFrame({'nombre': ['Julio','Egiber','Nicolas','Oscar','Anthony'],'nota':[15,17,14,19,15]})\n",
        "pddf"
      ],
      "metadata": {
        "colab": {
          "base_uri": "https://localhost:8080/",
          "height": 206
        },
        "id": "K7yMp2wNPm_-",
        "outputId": "c0b41c82-e1ec-457f-adb9-6c9604bad883"
      },
      "execution_count": 67,
      "outputs": [
        {
          "output_type": "execute_result",
          "data": {
            "text/plain": [
              "    nombre  nota\n",
              "0    Julio    15\n",
              "1   Egiber    17\n",
              "2  Nicolas    14\n",
              "3    Oscar    19\n",
              "4  Anthony    15"
            ],
            "text/html": [
              "\n",
              "  <div id=\"df-5b4a11c0-9cb4-4345-ad85-1e72f31f00c0\">\n",
              "    <div class=\"colab-df-container\">\n",
              "      <div>\n",
              "<style scoped>\n",
              "    .dataframe tbody tr th:only-of-type {\n",
              "        vertical-align: middle;\n",
              "    }\n",
              "\n",
              "    .dataframe tbody tr th {\n",
              "        vertical-align: top;\n",
              "    }\n",
              "\n",
              "    .dataframe thead th {\n",
              "        text-align: right;\n",
              "    }\n",
              "</style>\n",
              "<table border=\"1\" class=\"dataframe\">\n",
              "  <thead>\n",
              "    <tr style=\"text-align: right;\">\n",
              "      <th></th>\n",
              "      <th>nombre</th>\n",
              "      <th>nota</th>\n",
              "    </tr>\n",
              "  </thead>\n",
              "  <tbody>\n",
              "    <tr>\n",
              "      <th>0</th>\n",
              "      <td>Julio</td>\n",
              "      <td>15</td>\n",
              "    </tr>\n",
              "    <tr>\n",
              "      <th>1</th>\n",
              "      <td>Egiber</td>\n",
              "      <td>17</td>\n",
              "    </tr>\n",
              "    <tr>\n",
              "      <th>2</th>\n",
              "      <td>Nicolas</td>\n",
              "      <td>14</td>\n",
              "    </tr>\n",
              "    <tr>\n",
              "      <th>3</th>\n",
              "      <td>Oscar</td>\n",
              "      <td>19</td>\n",
              "    </tr>\n",
              "    <tr>\n",
              "      <th>4</th>\n",
              "      <td>Anthony</td>\n",
              "      <td>15</td>\n",
              "    </tr>\n",
              "  </tbody>\n",
              "</table>\n",
              "</div>\n",
              "      <button class=\"colab-df-convert\" onclick=\"convertToInteractive('df-5b4a11c0-9cb4-4345-ad85-1e72f31f00c0')\"\n",
              "              title=\"Convert this dataframe to an interactive table.\"\n",
              "              style=\"display:none;\">\n",
              "        \n",
              "  <svg xmlns=\"http://www.w3.org/2000/svg\" height=\"24px\"viewBox=\"0 0 24 24\"\n",
              "       width=\"24px\">\n",
              "    <path d=\"M0 0h24v24H0V0z\" fill=\"none\"/>\n",
              "    <path d=\"M18.56 5.44l.94 2.06.94-2.06 2.06-.94-2.06-.94-.94-2.06-.94 2.06-2.06.94zm-11 1L8.5 8.5l.94-2.06 2.06-.94-2.06-.94L8.5 2.5l-.94 2.06-2.06.94zm10 10l.94 2.06.94-2.06 2.06-.94-2.06-.94-.94-2.06-.94 2.06-2.06.94z\"/><path d=\"M17.41 7.96l-1.37-1.37c-.4-.4-.92-.59-1.43-.59-.52 0-1.04.2-1.43.59L10.3 9.45l-7.72 7.72c-.78.78-.78 2.05 0 2.83L4 21.41c.39.39.9.59 1.41.59.51 0 1.02-.2 1.41-.59l7.78-7.78 2.81-2.81c.8-.78.8-2.07 0-2.86zM5.41 20L4 18.59l7.72-7.72 1.47 1.35L5.41 20z\"/>\n",
              "  </svg>\n",
              "      </button>\n",
              "      \n",
              "  <style>\n",
              "    .colab-df-container {\n",
              "      display:flex;\n",
              "      flex-wrap:wrap;\n",
              "      gap: 12px;\n",
              "    }\n",
              "\n",
              "    .colab-df-convert {\n",
              "      background-color: #E8F0FE;\n",
              "      border: none;\n",
              "      border-radius: 50%;\n",
              "      cursor: pointer;\n",
              "      display: none;\n",
              "      fill: #1967D2;\n",
              "      height: 32px;\n",
              "      padding: 0 0 0 0;\n",
              "      width: 32px;\n",
              "    }\n",
              "\n",
              "    .colab-df-convert:hover {\n",
              "      background-color: #E2EBFA;\n",
              "      box-shadow: 0px 1px 2px rgba(60, 64, 67, 0.3), 0px 1px 3px 1px rgba(60, 64, 67, 0.15);\n",
              "      fill: #174EA6;\n",
              "    }\n",
              "\n",
              "    [theme=dark] .colab-df-convert {\n",
              "      background-color: #3B4455;\n",
              "      fill: #D2E3FC;\n",
              "    }\n",
              "\n",
              "    [theme=dark] .colab-df-convert:hover {\n",
              "      background-color: #434B5C;\n",
              "      box-shadow: 0px 1px 3px 1px rgba(0, 0, 0, 0.15);\n",
              "      filter: drop-shadow(0px 1px 2px rgba(0, 0, 0, 0.3));\n",
              "      fill: #FFFFFF;\n",
              "    }\n",
              "  </style>\n",
              "\n",
              "      <script>\n",
              "        const buttonEl =\n",
              "          document.querySelector('#df-5b4a11c0-9cb4-4345-ad85-1e72f31f00c0 button.colab-df-convert');\n",
              "        buttonEl.style.display =\n",
              "          google.colab.kernel.accessAllowed ? 'block' : 'none';\n",
              "\n",
              "        async function convertToInteractive(key) {\n",
              "          const element = document.querySelector('#df-5b4a11c0-9cb4-4345-ad85-1e72f31f00c0');\n",
              "          const dataTable =\n",
              "            await google.colab.kernel.invokeFunction('convertToInteractive',\n",
              "                                                     [key], {});\n",
              "          if (!dataTable) return;\n",
              "\n",
              "          const docLinkHtml = 'Like what you see? Visit the ' +\n",
              "            '<a target=\"_blank\" href=https://colab.research.google.com/notebooks/data_table.ipynb>data table notebook</a>'\n",
              "            + ' to learn more about interactive tables.';\n",
              "          element.innerHTML = '';\n",
              "          dataTable['output_type'] = 'display_data';\n",
              "          await google.colab.output.renderOutput(dataTable, element);\n",
              "          const docLink = document.createElement('div');\n",
              "          docLink.innerHTML = docLinkHtml;\n",
              "          element.appendChild(docLink);\n",
              "        }\n",
              "      </script>\n",
              "    </div>\n",
              "  </div>\n",
              "  "
            ]
          },
          "metadata": {},
          "execution_count": 67
        }
      ]
    }
  ]
}